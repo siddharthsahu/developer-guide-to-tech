{
 "cells": [
  {
   "cell_type": "markdown",
   "metadata": {},
   "source": [
    "## Practice MongoDB"
   ]
  },
  {
   "cell_type": "markdown",
   "metadata": {},
   "source": [
    "### 1. Insert multiple documents"
   ]
  },
  {
   "cell_type": "raw",
   "metadata": {},
   "source": [
    "db.inventory.insertMany([\n",
    "   { item: \"journal\", qty: 25, size: { h: 14, w: 21, uom: \"cm\" }, status: \"A\" },\n",
    "   { item: \"notebook\", qty: 50, size: { h: 8.5, w: 11, uom: \"in\" }, status: \"A\" },\n",
    "   { item: \"paper\", qty: 100, size: { h: 8.5, w: 11, uom: \"in\" }, status: \"D\" },\n",
    "   { item: \"planner\", qty: 75, size: { h: 22.85, w: 30, uom: \"cm\" }, status: \"D\" },\n",
    "   { item: \"postcard\", qty: 45, size: { h: 10, w: 15.25, uom: \"cm\" }, status: \"A\" }\n",
    "]);"
   ]
  },
  {
   "cell_type": "markdown",
   "metadata": {},
   "source": [
    "### 2. Check mongodb version"
   ]
  },
  {
   "cell_type": "raw",
   "metadata": {},
   "source": [
    "db.version()"
   ]
  },
  {
   "cell_type": "markdown",
   "metadata": {},
   "source": [
    "### 2. Add new field to each document"
   ]
  },
  {
   "cell_type": "markdown",
   "metadata": {},
   "source": [
    "**Description** Use `$set` along with `$update_one()` or `$update_many()`. Update commands take a filter attribute, so only filtered documents are updated. For all documents, use empty set.\n",
    "MongoDB doesn't provide any clause similar to `else`. Hence, we can provide condition but can't set for rows not satisfying that condition"
   ]
  },
  {
   "cell_type": "raw",
   "metadata": {},
   "source": [
    "db.inventory.updateMany({}, {'$set': {'company': 'classmate'}})"
   ]
  },
  {
   "cell_type": "markdown",
   "metadata": {},
   "source": [
    "### 3. Insert single document"
   ]
  },
  {
   "cell_type": "raw",
   "metadata": {},
   "source": [
    "db.inventory.insertOne({ \"item\" : \"journal\", \"qty\" : 22, \"size\" : { \"h\" : 16, \"w\" : 26, \"uom\" : \"cm\" }, \"status\" : \"A\", \"company\" : \"natraj\" });"
   ]
  },
  {
   "cell_type": "markdown",
   "metadata": {},
   "source": [
    "### 4. Query db with both `OR` and `AND`"
   ]
  },
  {
   "cell_type": "markdown",
   "metadata": {},
   "source": [
    "**Query** Write a query to select all documents where company is not 'natraj' AND (item is either 'journal' or 'paper' OR have 75 quantity)"
   ]
  },
  {
   "cell_type": "raw",
   "metadata": {},
   "source": [
    "db.inventory.find({'$or': [{'item': {'$in': ['journal', 'paper']} }, {'qty': 75}], 'company': {'$ne': 'natraj'}})"
   ]
  },
  {
   "cell_type": "markdown",
   "metadata": {},
   "source": [
    "**description** here we could have also used explicit `$and` but we have used an implicit one. There is no implicit `$or`"
   ]
  },
  {
   "cell_type": "markdown",
   "metadata": {},
   "source": [
    "# Practice 2"
   ]
  },
  {
   "cell_type": "markdown",
   "metadata": {},
   "source": [
    "URL: https://www.w3resource.com/mongodb-exercises/#PracticeOnline"
   ]
  },
  {
   "cell_type": "code",
   "execution_count": null,
   "metadata": {},
   "outputs": [],
   "source": []
  }
 ],
 "metadata": {
  "kernelspec": {
   "display_name": "Python 3",
   "language": "python",
   "name": "python3"
  },
  "language_info": {
   "codemirror_mode": {
    "name": "ipython",
    "version": 3
   },
   "file_extension": ".py",
   "mimetype": "text/x-python",
   "name": "python",
   "nbconvert_exporter": "python",
   "pygments_lexer": "ipython3",
   "version": "3.7.3"
  }
 },
 "nbformat": 4,
 "nbformat_minor": 4
}
