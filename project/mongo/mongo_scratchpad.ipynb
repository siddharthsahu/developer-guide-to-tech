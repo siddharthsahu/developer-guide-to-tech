{
 "cells": [
  {
   "cell_type": "markdown",
   "metadata": {},
   "source": [
    "# MongoDB | Scratchpad"
   ]
  },
  {
   "cell_type": "markdown",
   "metadata": {},
   "source": [
    "### 1. Launch mongo console"
   ]
  },
  {
   "cell_type": "markdown",
   "metadata": {},
   "source": [
    "**Description:** Launch mongo console on terminal"
   ]
  },
  {
   "cell_type": "raw",
   "metadata": {},
   "source": [
    "> mongo"
   ]
  },
  {
   "cell_type": "markdown",
   "metadata": {},
   "source": [
    "**Developer notes** you don't need to create a database manually because MongoDB will create it automatically when you save the value into the defined collection at first time"
   ]
  },
  {
   "cell_type": "markdown",
   "metadata": {},
   "source": [
    "### 2. Select database"
   ]
  },
  {
   "cell_type": "markdown",
   "metadata": {},
   "source": [
    "**Description** Selects mentioned db. Even if db doesn't exist it selects it but doesn't create. If db doesn't exit, it will be created once a collection is written into it"
   ]
  },
  {
   "cell_type": "raw",
   "metadata": {},
   "source": [
    "> use `db_name`"
   ]
  },
  {
   "cell_type": "markdown",
   "metadata": {},
   "source": [
    "### 3. Create collection"
   ]
  },
  {
   "cell_type": "markdown",
   "metadata": {},
   "source": [
    "**Description** Creates collection with given name with given options (a document)\n",
    "Options:\n",
    "1. capped: If true, creates fixed size collection. If limit reached(defined by `size`), oldest documents are overwritten. Default `false`\n",
    "2. autoIndexId: If true, automatically add `_id` field. Default `false`\n",
    "3. size: If capped is true, this is mandatory. Size in bytes of capped collection\n",
    "4. max: Specifices the maximum number of documents in capped collection"
   ]
  },
  {
   "cell_type": "raw",
   "metadata": {},
   "source": [
    "> db.createCollection(name, [options])"
   ]
  },
  {
   "cell_type": "markdown",
   "metadata": {},
   "source": [
    "**Developer notes** In MongoDB, you don't need to create collection. MongoDB creates collection automatically, when you insert some document."
   ]
  },
  {
   "cell_type": "markdown",
   "metadata": {},
   "source": [
    "### 4. Insert document"
   ]
  },
  {
   "cell_type": "markdown",
   "metadata": {},
   "source": [
    "**Description** Inserts document in MongoDB"
   ]
  },
  {
   "cell_type": "raw",
   "metadata": {},
   "source": [
    "> db.<collection_name>.insert(<document> or [<document>]) # takes single document or an array of it"
   ]
  },
  {
   "cell_type": "markdown",
   "metadata": {},
   "source": [
    "**Developer notes** If collection doesn't exist, it first creates collection, then inserts"
   ]
  },
  {
   "cell_type": "markdown",
   "metadata": {},
   "source": [
    "### 5. Save document"
   ]
  },
  {
   "cell_type": "markdown",
   "metadata": {},
   "source": [
    "**Description** Saves document. Works similar to `insert` if no `ObjectId` is provided. If `ObjectId` is provided, `save` will update, while `insert` will throw a duplicate error."
   ]
  },
  {
   "cell_type": "raw",
   "metadata": {},
   "source": [
    "> db.<collection_name>.save(<document> or [<document>]) # takes single document or an array of it"
   ]
  },
  {
   "cell_type": "markdown",
   "metadata": {},
   "source": [
    "### 6. Query database"
   ]
  },
  {
   "cell_type": "markdown",
   "metadata": {},
   "source": [
    "**Description** `find` method is used to query documents in db"
   ]
  },
  {
   "cell_type": "raw",
   "metadata": {},
   "source": [
    "> db.<collection_name>.find()"
   ]
  },
  {
   "cell_type": "markdown",
   "metadata": {},
   "source": [
    "**Developer notes** Use `pretty` to format output e.g. `db.collection.find({}).pretty()`\n",
    "\n",
    "**Query clauses**\n",
    "1. Equality: `db.collection.find({'<key>': '<value>'})`\n",
    "2. Less than: `db.collection.find({'<key>': {$lt: '<value>'}})`\n",
    "3. Less than equal: `db.collection.find({'<key>': {$lte: '<value>'}})`\n",
    "4. Not equal: `db.collection.find({'<key>': {$ne: '<value>'}})`"
   ]
  },
  {
   "cell_type": "markdown",
   "metadata": {},
   "source": [
    "### 7. Query AND OR"
   ]
  },
  {
   "cell_type": "markdown",
   "metadata": {},
   "source": [
    "**Description** `AND` is implemented by comma separated while `OR` is implemented by `$or`"
   ]
  },
  {
   "cell_type": "raw",
   "metadata": {},
   "source": [
    "AND:\n",
    "> db.<collection_name>.find({\"key1\": \"search_string\", \"key2\": \"search_string_2\"});\n",
    "\n",
    "OR:\n",
    "> db.test_collection.find(\n",
    "    {\n",
    "        $or: [\n",
    "            {\"name\": \"Siddharth\"},\n",
    "            {\"surname\": \"Sahfdfdu\"}\n",
    "        ]\n",
    "    }\n",
    "  );"
   ]
  },
  {
   "cell_type": "markdown",
   "metadata": {},
   "source": [
    "#### Notes\n",
    "1. MongoDB datatypes\n",
    "2. BSON"
   ]
  },
  {
   "cell_type": "markdown",
   "metadata": {},
   "source": [
    "### 8. Show Databases"
   ]
  },
  {
   "cell_type": "markdown",
   "metadata": {},
   "source": [
    "**Description** List all the databases present"
   ]
  },
  {
   "cell_type": "raw",
   "metadata": {},
   "source": [
    "show dbs;"
   ]
  },
  {
   "cell_type": "markdown",
   "metadata": {},
   "source": [
    "### 9. Show Databases"
   ]
  },
  {
   "cell_type": "markdown",
   "metadata": {},
   "source": [
    "**Description** Select specific db"
   ]
  },
  {
   "cell_type": "raw",
   "metadata": {},
   "source": [
    "use <db-name>;"
   ]
  },
  {
   "cell_type": "markdown",
   "metadata": {},
   "source": [
    "### 10. Show Collections"
   ]
  },
  {
   "cell_type": "markdown",
   "metadata": {},
   "source": [
    "**Description** List all the collections present in current db"
   ]
  },
  {
   "cell_type": "raw",
   "metadata": {},
   "source": [
    "show collections;"
   ]
  },
  {
   "cell_type": "markdown",
   "metadata": {},
   "source": [
    "### 11. Projection of fields (select specific fields only)"
   ]
  },
  {
   "cell_type": "markdown",
   "metadata": {},
   "source": [
    "**Description** `find` attribute accepts second argument for projection"
   ]
  },
  {
   "cell_type": "raw",
   "metadata": {},
   "source": [
    "db.collection.find({'key': 'value'}, {'key1': 0, 'key2':1}) # project only field key2"
   ]
  },
  {
   "cell_type": "markdown",
   "metadata": {},
   "source": [
    "### 12. Limit and Skip records"
   ]
  },
  {
   "cell_type": "markdown",
   "metadata": {},
   "source": [
    "**Description** Limit will show 'limit' number of records. Skip will skip the find 'skip' records"
   ]
  },
  {
   "cell_type": "raw",
   "metadata": {},
   "source": [
    "db.collection.find().limit(<count>).skip()"
   ]
  },
  {
   "cell_type": "markdown",
   "metadata": {},
   "source": [
    "### 13. Sort records"
   ]
  },
  {
   "cell_type": "markdown",
   "metadata": {},
   "source": [
    "**Description** Sort records based on fields in ascending(1) or descending(-1) order"
   ]
  },
  {
   "cell_type": "raw",
   "metadata": {},
   "source": [
    "db.my_collection.find().sort({'key1': -1, 'key2': 1})"
   ]
  },
  {
   "cell_type": "markdown",
   "metadata": {},
   "source": [
    "### 14. Indexing"
   ]
  },
  {
   "cell_type": "markdown",
   "metadata": {},
   "source": [
    "**Description** Index records for faster query. Index on fields in ascending(1) and descending(-1) order"
   ]
  },
  {
   "cell_type": "raw",
   "metadata": {},
   "source": [
    "db.my_collection.ensureIndex({'key1': 1})"
   ]
  },
  {
   "cell_type": "markdown",
   "metadata": {},
   "source": [
    "**Developer notes** There are number of option like index creation in background, versions, uniqueness with indexes. Use **hint** to force a specific index while query. `hint` along with `explain` can be used to test out various indexes"
   ]
  },
  {
   "cell_type": "markdown",
   "metadata": {},
   "source": [
    "### 13. Aggregations"
   ]
  },
  {
   "cell_type": "markdown",
   "metadata": {},
   "source": [
    "**Description** Used to perform aggregate operations. There are few ways to implement aggregations:\n",
    "1. `$group`: Can be used with multiple operations like `$sum`, `$avg`, `$min`, `$max`, `$push`(into array), `$addToSet`, `$first`, `$last` etc.\n",
    "2. Pipeline: Covered under independent heading"
   ]
  },
  {
   "cell_type": "raw",
   "metadata": {},
   "source": [
    "db.my_collection.\n",
    "(AGGREGATION_OPERATION)\n",
    "e.g.\n",
    "db.my_collection.aggregate([{$group : {_id : \"$by_user\", num_tutorial : {$sum : \"$likes\"}}}])"
   ]
  },
  {
   "cell_type": "markdown",
   "metadata": {},
   "source": [
    "### 13. Aggregation Pipeline (db.collection.aggregate)\n",
    "There is also db.aggregate"
   ]
  },
  {
   "cell_type": "markdown",
   "metadata": {},
   "source": [
    "**Description** Similar to Unix shell pipeline, it allows you to operate an operation on the output of previous operation. Some possible stages in pipeline stages are as below:\n",
    "\n",
    "1. `$project` - Used to select some specific fields from a collection.\n",
    "\n",
    "2. `$match` − This is a filtering operation and thus this can reduce the amount of documents that are given as input to the next stage.\n",
    "\n",
    "3. `$group` − This does the actual aggregation as discussed above.\n",
    "\n",
    "4. `$sort` − Sorts the documents.\n",
    "\n",
    "5. `$skip` − With this, it is possible to skip forward in the list of documents for a given amount of documents.\n",
    "\n",
    "6. `$limit` − This limits the amount of documents to look at, by the given number starting from the current positions.\n",
    "\n",
    "7. `$unwind` − This is used to unwind document that are using arrays. When using an array, the data is kind of pre-joined and this operation will be undone with this to have individual documents again. Thus with this stage we will increase the amount of documents for the next stage.\n",
    "\n",
    "All stages with description: https://docs.mongodb.com/manual/reference/operator/aggregation-pipeline/#aggregation-pipeline-operator-reference"
   ]
  },
  {
   "cell_type": "markdown",
   "metadata": {},
   "source": [
    "**Developer notes**\n",
    "1. Pipeline stages can appear multiple times in the pipeline with the exception of `$out`, `$merge`, and `$geoNear` stages\n",
    "2. When placed at the beginning of a pipeline, `$match` operations use suitable indexes to scan only the matching documents in a collection. When possible, place `$match` operators at the beginning of the pipeline"
   ]
  },
  {
   "cell_type": "markdown",
   "metadata": {},
   "source": [
    "### 14. Covered Query"
   ]
  },
  {
   "cell_type": "markdown",
   "metadata": {},
   "source": [
    "**Description** A covered query is a query in which all fields are part of an index and all fields 'returned' by the query are also in same index.\n",
    "\n",
    "Since all fields are part of index, db query is returned from RAM only, hence quite fast"
   ]
  },
  {
   "cell_type": "markdown",
   "metadata": {},
   "source": [
    "### 15. Query explain"
   ]
  },
  {
   "cell_type": "markdown",
   "metadata": {},
   "source": [
    "**Description** Explains the performance of a query. Can be used to understand the performance of indexes"
   ]
  },
  {
   "cell_type": "raw",
   "metadata": {},
   "source": [
    "db.my_collection.find({}).explain()"
   ]
  },
  {
   "cell_type": "markdown",
   "metadata": {},
   "source": [
    "### 16. Views"
   ]
  },
  {
   "cell_type": "markdown",
   "metadata": {},
   "source": [
    "**Description** View is a queryable(read-only) object whose contents are defined by an aggregation pipeline on other collections or views. MongoDB views are non-materialized(does not persist the view contents to disk). A view’s content is computed on-demand when a client queries the view"
   ]
  },
  {
   "cell_type": "raw",
   "metadata": {},
   "source": [
    "db.createView('view_name', 'table_name', [pipeline])"
   ]
  },
  {
   "cell_type": "markdown",
   "metadata": {},
   "source": [
    "### 17. On-demand Materialized Views"
   ]
  },
  {
   "cell_type": "markdown",
   "metadata": {},
   "source": [
    "On-demand materialized views can be created using `$merge` stage of aggregation pipeline. This stage can add result to a new collection or merge the pipeline results to an existing collection instead of completely replacing the collection "
   ]
  },
  {
   "cell_type": "markdown",
   "metadata": {},
   "source": [
    "### 18. Retryable Writes"
   ]
  },
  {
   "cell_type": "markdown",
   "metadata": {},
   "source": [
    "**Description** Retryable writes allow MongoDB drivers to automatically retry certain write operations a single time if they encounter network errors, or if they cannot find a healthy `primary` in the replicaset or sharded cluster"
   ]
  },
  {
   "cell_type": "raw",
   "metadata": {},
   "source": [
    ">> mongo --retryWrites"
   ]
  },
  {
   "cell_type": "markdown",
   "metadata": {},
   "source": [
    "### 19. Text search"
   ]
  },
  {
   "cell_type": "markdown",
   "metadata": {},
   "source": [
    "**Description** MongoDB supports query operations that perform a text search of string content. To perform text search, MongoDB uses a text index and the `$text` operator"
   ]
  },
  {
   "cell_type": "raw",
   "metadata": {},
   "source": [
    "# To create text index on 'name' and 'description' field\n",
    ">> db.stores.createIndex( { name: \"text\", description: \"text\" } )\n",
    "\n",
    "# to search phrase either 'java', 'coffee' or 'shop'\n",
    ">> db.stores.find( { $text: { $search: \"java coffee shop\" } } )\n",
    "\n",
    "# exact phrase search by using double quotes(need to escape quotes)\n",
    ">> db.stores.find( { $text: { $search: \"\\\"coffee shop\\\"\" } } )\n",
    "\n",
    "# exlude terms by using '-'. To find all stores containing “java” or “shop” but not “coffee”\n",
    ">> db.stores.find( { $text: { $search: \"java shop -coffee\" } } )"
   ]
  },
  {
   "cell_type": "markdown",
   "metadata": {},
   "source": [
    "**Developer notes** When working with the Aggregation framework, use `$match` with a `$text` expression to execute a text search query"
   ]
  },
  {
   "cell_type": "markdown",
   "metadata": {},
   "source": [
    "### 0. Notes\n",
    "\n",
    "1. MongoDB stores data records as BSON documents. BSON is a binary representation of JSON documents\n",
    "2. MongoDB provides the capability to perform schema validation during updates and insertions.\n",
    "3. `$elemMatch` allows you to project only those fields, for which this is true\n"
   ]
  },
  {
   "cell_type": "code",
   "execution_count": null,
   "metadata": {},
   "outputs": [],
   "source": []
  }
 ],
 "metadata": {
  "kernelspec": {
   "display_name": "Python 3",
   "language": "python",
   "name": "python3"
  },
  "language_info": {
   "codemirror_mode": {
    "name": "ipython",
    "version": 3
   },
   "file_extension": ".py",
   "mimetype": "text/x-python",
   "name": "python",
   "nbconvert_exporter": "python",
   "pygments_lexer": "ipython3",
   "version": "3.7.3"
  }
 },
 "nbformat": 4,
 "nbformat_minor": 4
}
